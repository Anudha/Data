{
 "cells": [
  {
   "cell_type": "code",
   "execution_count": 20,
   "metadata": {},
   "outputs": [
    {
     "name": "stdout",
     "output_type": "stream",
     "text": [
      "<class 'numpy.ndarray'>\n",
      "<class 'numpy.ndarray'>\n",
      "[1 1 2 3 5 8]\n",
      "[  1   1   2   3   5 888]\n"
     ]
    }
   ],
   "source": [
    "import numpy as np\n",
    "a = np.array([1, 1, 2, 3, 5, 8])  # Start with an existing NumPy array\n",
    "\n",
    "\n",
    "\n",
    "\n",
    "from multiprocessing import shared_memory\n",
    "shm = shared_memory.SharedMemory(create=True, size=a.nbytes)\n",
    "# Now create a NumPy array backed by shared memory\n",
    "b = np.ndarray(a.shape, dtype=a.dtype, buffer=shm.buf)\n",
    "b[:] = a[:]  # Copy the original data into shared memory\n",
    "b\n",
    "\n",
    "\n",
    "\n",
    "x=shm.name  # We did not specify a name so one was chosen for us\n",
    "\n",
    "# In either the same shell or a new Python shell on the same machine\n",
    "import numpy as np\n",
    "from multiprocessing import shared_memory\n",
    "# Attach to the existing shared memory block\n",
    "existing_shm = shared_memory.SharedMemory(name=x)\n",
    "# Note that a.shape is (6,) and a.dtype is np.int64 in this example\n",
    "c = np.ndarray((6,), dtype=np.int64, buffer=existing_shm.buf)\n",
    "c\n",
    "\n",
    "c[-1] = 888\n",
    "c\n",
    "\n",
    "\n",
    "# Back in the first Python interactive shell, b reflects this change\n",
    "b\n",
    "print(a)\n",
    "print(b)\n",
    "\n",
    "# Clean up from within the second Python shell\n",
    "del c  # Unnecessary; merely emphasizing the array is no longer used\n",
    "existing_shm.close()\n",
    "\n",
    "# Clean up from within the first Python shell\n",
    "del b  # Unnecessary; merely emphasizing the array is no longer used\n",
    "shm.close()\n",
    "shm.unlink() "
   ]
  }
 ],
 "metadata": {
  "kernelspec": {
   "display_name": "Python 3",
   "language": "python",
   "name": "python3"
  },
  "language_info": {
   "codemirror_mode": {
    "name": "ipython",
    "version": 3
   },
   "file_extension": ".py",
   "mimetype": "text/x-python",
   "name": "python",
   "nbconvert_exporter": "python",
   "pygments_lexer": "ipython3",
   "version": "3.9.13"
  }
 },
 "nbformat": 4,
 "nbformat_minor": 2
}
