{
 "cells": [
  {
   "cell_type": "code",
   "execution_count": 5,
   "metadata": {},
   "outputs": [],
   "source": [
    "import os\n",
    "os.getcwd()\n",
    "os.chdir('Users/acacia/Downloads/')"
   ]
  },
  {
   "cell_type": "code",
   "execution_count": 8,
   "metadata": {},
   "outputs": [
    {
     "name": "stdout",
     "output_type": "stream",
     "text": [
      "Model parameters saved to mlp_model.json\n"
     ]
    },
    {
     "name": "stderr",
     "output_type": "stream",
     "text": [
      "/Library/Frameworks/Python.framework/Versions/3.9/lib/python3.9/site-packages/sklearn/neural_network/_multilayer_perceptron.py:691: ConvergenceWarning: Stochastic Optimizer: Maximum iterations (1000) reached and the optimization hasn't converged yet.\n",
      "  warnings.warn(\n"
     ]
    }
   ],
   "source": [
    "import json\n",
    "import numpy as np\n",
    "from sklearn.datasets import load_iris\n",
    "from sklearn.neural_network import MLPClassifier\n",
    "from sklearn.model_selection import train_test_split\n",
    "\n",
    "\n",
    "out_file='mlp_model_vhiddenlayers5.json'\n",
    "\n",
    "\n",
    "# Load dataset\n",
    "data = load_iris()\n",
    "X, y = data.data, data.target\n",
    "\n",
    "# Split the data into training and testing sets\n",
    "X_train, X_test, y_train, y_test = train_test_split(X, y, test_size=0.2, random_state=42)\n",
    "\n",
    "# Train an MLPClassifier\n",
    "mlp = MLPClassifier(hidden_layer_sizes=(5,), max_iter=1000, random_state=42)\n",
    "mlp.fit(X_train, y_train)\n",
    "\n",
    "# Serialize the model parameters\n",
    "model_params = {\n",
    "    'coefs_': [coef.tolist() for coef in mlp.coefs_],\n",
    "    'intercepts_': [intercept.tolist() for intercept in mlp.intercepts_],\n",
    "    'n_iter_': mlp.n_iter_,\n",
    "    'n_layers_': mlp.n_layers_,\n",
    "    'n_outputs_': mlp.n_outputs_,\n",
    "    'out_activation_': mlp.out_activation_\n",
    "}\n",
    "\n",
    "# Save the parameters to a JSON file\n",
    "with open(out_file, 'w') as f:\n",
    "    json.dump(model_params, f)\n",
    "\n",
    "print(\"Model parameters saved to mlp_model.json\")\n"
   ]
  },
  {
   "cell_type": "code",
   "execution_count": 9,
   "metadata": {},
   "outputs": [
    {
     "name": "stdout",
     "output_type": "stream",
     "text": [
      "MLP model loaded and created from JSON parameters.\n"
     ]
    }
   ],
   "source": [
    "in_file = out_file\n",
    "\n",
    "import json\n",
    "import numpy as np\n",
    "from sklearn.neural_network import MLPClassifier\n",
    "\n",
    "# Function to load the model parameters from a JSON file\n",
    "def load_model_from_json(file_path):\n",
    "    with open(file_path, 'r') as f:\n",
    "        model_params = json.load(f)\n",
    "    return model_params\n",
    "\n",
    "# Function to create an MLP model from the loaded parameters\n",
    "def create_mlp_from_params(params):\n",
    "    mlp = MLPClassifier(hidden_layer_sizes=(10,), max_iter=1000)  # Initialize with same structure\n",
    "    mlp.coefs_ = [np.array(coef) for coef in params['coefs_']]\n",
    "    mlp.intercepts_ = [np.array(intercept) for intercept in params['intercepts_']]\n",
    "    mlp.n_iter_ = params['n_iter_']\n",
    "    mlp.n_layers_ = params['n_layers_']\n",
    "    mlp.n_outputs_ = params['n_outputs_']\n",
    "    mlp.out_activation_ = params['out_activation_']\n",
    "    return mlp\n",
    "\n",
    "# Load the model parameters\n",
    "\n",
    "model_params = load_model_from_json(in_file)\n",
    "\n",
    "# Create the MLP model with the loaded parameters\n",
    "mlp_model = create_mlp_from_params(model_params)\n",
    "\n",
    "# Example usage: Predict with the loaded model (assuming X_test is available)\n",
    "# X_test should be loaded or defined before predicting\n",
    "# predictions = mlp_model.predict(X_test)\n",
    "# print(predictions)\n",
    "\n",
    "print(\"MLP model loaded and created from JSON parameters.\")\n"
   ]
  }
 ],
 "metadata": {
  "kernelspec": {
   "display_name": "Python 3",
   "language": "python",
   "name": "python3"
  },
  "language_info": {
   "codemirror_mode": {
    "name": "ipython",
    "version": 3
   },
   "file_extension": ".py",
   "mimetype": "text/x-python",
   "name": "python",
   "nbconvert_exporter": "python",
   "pygments_lexer": "ipython3",
   "version": "3.9.13"
  }
 },
 "nbformat": 4,
 "nbformat_minor": 2
}
